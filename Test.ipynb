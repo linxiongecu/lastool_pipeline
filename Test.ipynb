{
 "cells": [
  {
   "cell_type": "code",
   "execution_count": 2,
   "id": "f4ecea77-fb8d-4b0a-9978-63fee1de56d4",
   "metadata": {},
   "outputs": [
    {
     "data": {
      "text/plain": [
       "'../quality/USGS_LPC_FL_WestEvergladesNP_2018_B18_e1465n0426.txt'"
      ]
     },
     "execution_count": 2,
     "metadata": {},
     "output_type": "execute_result"
    }
   ],
   "source": [
    "# check ground classfication \n",
    "import glob\n",
    "txts = glob.glob('../quality/USGS*.txt')\n",
    "txts[1]"
   ]
  },
  {
   "cell_type": "code",
   "execution_count": 8,
   "id": "a70b44f4-d96d-484d-8ebb-ef9ddc535d1a",
   "metadata": {},
   "outputs": [
    {
     "data": {
      "text/plain": [
       "87"
      ]
     },
     "execution_count": 8,
     "metadata": {},
     "output_type": "execute_result"
    }
   ],
   "source": [
    "len(txts)"
   ]
  },
  {
   "cell_type": "code",
   "execution_count": 11,
   "id": "3ef2d40c-f31f-4818-ba38-c9e455e8a23c",
   "metadata": {},
   "outputs": [
    {
     "name": "stdout",
     "output_type": "stream",
     "text": [
      "../quality/USGS_LPC_FL_WestEvergladesNP_2018_B18_e1461n0419.txt\n",
      "../quality/USGS_LPC_FL_WestEvergladesNP_2018_B18_e1460n0419.txt\n",
      "../quality/USGS_LPC_FL_WestEvergladesNP_2018_B18_e1467n0421.txt\n",
      "../quality/USGS_LPC_FL_WestEvergladesNP_2018_B18_e1460n0420.txt\n",
      "../quality/USGS_LPC_FL_WestEvergladesNP_2018_B18_e1458n0421.txt\n",
      "../quality/USGS_LPC_FL_WestEvergladesNP_2018_B18_e1462n0420.txt\n",
      "../quality/USGS_LPC_FL_WestEvergladesNP_2018_B18_e1459n0419.txt\n",
      "../quality/USGS_LPC_FL_WestEvergladesNP_2018_B18_e1459n0421.txt\n",
      "../quality/USGS_LPC_FL_WestEvergladesNP_2018_B18_e1458n0419.txt\n",
      "../quality/USGS_LPC_FL_WestEvergladesNP_2018_B18_e1458n0420.txt\n",
      "../quality/USGS_LPC_FL_WestEvergladesNP_2018_B18_e1460n0423.txt\n",
      "../quality/USGS_LPC_FL_WestEvergladesNP_2018_B18_e1459n0420.txt\n",
      "../quality/USGS_LPC_FL_WestEvergladesNP_2018_B18_e1463n0421.txt\n",
      "../quality/USGS_LPC_FL_WestEvergladesNP_2018_B18_e1463n0427.txt\n",
      "../quality/USGS_LPC_FL_WestEvergladesNP_2018_B18_e1470n0421.txt\n",
      "../quality/USGS_LPC_FL_WestEvergladesNP_2018_B18_e1461n0420.txt\n",
      "16\n"
     ]
    }
   ],
   "source": [
    "def check_ground_string(file_path):\n",
    "    try:\n",
    "        with open(file_path, 'r') as file:\n",
    "            for line in file:\n",
    "                if 'ground' in line:\n",
    "                    return True\n",
    "        return False\n",
    "    except FileNotFoundError:\n",
    "        print(\"File not found.\")\n",
    "        return False\n",
    "n=0\n",
    "for f in txts:\n",
    "    if check_ground_string(f):\n",
    "        pass\n",
    "        #print(\"The file contains the string 'ground'.\")\n",
    "    else:\n",
    "        n+=1\n",
    "        print(f)\n",
    "print(n)"
   ]
  },
  {
   "cell_type": "code",
   "execution_count": 12,
   "id": "8463a050-3b69-4df8-8c2d-71012c87f6d6",
   "metadata": {},
   "outputs": [
    {
     "data": {
      "text/plain": [
       "10000000"
      ]
     },
     "execution_count": 12,
     "metadata": {},
     "output_type": "execute_result"
    }
   ],
   "source": [
    "10,000,000"
   ]
  },
  {
   "cell_type": "code",
   "execution_count": null,
   "id": "68ec5cd9-a904-4f9b-a47e-3921056bc746",
   "metadata": {},
   "outputs": [],
   "source": []
  }
 ],
 "metadata": {
  "kernelspec": {
   "display_name": "Python 3 (ipykernel)",
   "language": "python",
   "name": "python3"
  },
  "language_info": {
   "codemirror_mode": {
    "name": "ipython",
    "version": 3
   },
   "file_extension": ".py",
   "mimetype": "text/x-python",
   "name": "python",
   "nbconvert_exporter": "python",
   "pygments_lexer": "ipython3",
   "version": "3.11.4"
  }
 },
 "nbformat": 4,
 "nbformat_minor": 5
}
