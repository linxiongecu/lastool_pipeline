{
 "cells": [
  {
   "cell_type": "code",
   "execution_count": 2,
   "id": "0f45bd91-81ad-4bb4-b434-6251f97544e9",
   "metadata": {},
   "outputs": [
    {
     "name": "stderr",
     "output_type": "stream",
     "text": [
      "The legacy packages maptools, rgdal, and rgeos, underpinning the sp package,\n",
      "which was just loaded, will retire in October 2023.\n",
      "Please refer to R-spatial evolution reports for details, especially\n",
      "https://r-spatial.org/r/2023/05/15/evolution4.html.\n",
      "It may be desirable to make the sf package available;\n",
      "package maintainers should consider adding sf to Suggests:.\n",
      "The sp package is now running under evolution status 2\n",
      "     (status 2 uses the sf package in place of rgdal)\n",
      "\n"
     ]
    }
   ],
   "source": [
    "# \n",
    "library(lidR)"
   ]
  },
  {
   "cell_type": "code",
   "execution_count": null,
   "id": "61af25bb-7cf0-4c24-b147-2a16d14d92d2",
   "metadata": {},
   "outputs": [],
   "source": [
    "# read laz data\n",
    "ctg <- readLAScatalog(\"../LazData/\")"
   ]
  }
 ],
 "metadata": {
  "kernelspec": {
   "display_name": "R",
   "language": "R",
   "name": "ir"
  },
  "language_info": {
   "codemirror_mode": "r",
   "file_extension": ".r",
   "mimetype": "text/x-r-source",
   "name": "R",
   "pygments_lexer": "r",
   "version": "4.3.1"
  }
 },
 "nbformat": 4,
 "nbformat_minor": 5
}
